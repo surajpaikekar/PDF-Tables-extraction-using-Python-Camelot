{
 "cells": [
  {
   "cell_type": "markdown",
   "id": "7aa9472b-4817-4b02-8614-a0148ef27698",
   "metadata": {},
   "source": [
    "<h1> Tutorial: How to extract tables from the PDF and save into CSV </h1>"
   ]
  },
  {
   "cell_type": "markdown",
   "id": "9dd48b3a-79b3-4611-8a24-5c913d581071",
   "metadata": {},
   "source": [
    "## Steps:\n",
    "\n",
    "1. **Install the camelot-py library**\n",
    "2. **Install the pydf2==1.26.0**\n",
    "3. **Install the Ghostscript**\n",
    "\n",
    "**Note:** \n",
    "- *Camelot* uses `PdfReader` from the `pypdf2` library. Therefore, `read_pdf` is not supported in `pypdf2` versions 3.0.2 or above.\n",
    "- *You need to install a compatible `pypdf2` version*, i.e., 1.26.0.\n",
    "- The *Camelot library requires Ghostscript* to be installed and available on the system PATH. You can download and install Ghostscript from the official website: [Ghostscript](https://www.ghostscript.com/download.html)\n",
    "\n",
    "- **After installing Ghostscript**, make sure to add the Ghostscript bin and lib directories to your system's PATH environment variable. The typical paths are:\n",
    "  - **Windows:** `C:\\Program Files\\gs\\gs9.55.0\\bin` and `C:\\Program Files\\gs\\gs9.55.0\\lib`\n",
    "\n",
    "### Verify Ghostscript Installation\n",
    "\n",
    "#### Windows:\n",
    "- Open a new command prompt or PowerShell window.\n",
    "- Type `gswin64c.exe -version` (or `gswin32c.exe` for 32-bit systems) and press Enter.\n",
    "- Verify that Ghostscript is installed and available.\n",
    "\n",
    "\n",
    "#### Documentation Links: \n",
    "- [Camelot](https://camelot-py.readthedocs.io/en/master/user/quickstart.html#read-the-pdf)\n",
    "- [pypdf2](https://pypdf2.readthedocs.io/en/3.0.0/user/extract-text.html#using-a-visitor)\n",
    "- [Ghostscript](https://ghostscript.com/releases/)"
   ]
  },
  {
   "cell_type": "code",
   "execution_count": 4,
   "id": "f24cf843-e222-462c-921d-15cdb11cd3bc",
   "metadata": {},
   "outputs": [],
   "source": [
    "!pip install -q camelot-py[cv] pandas\n",
    "!pip install Ghostscript\n",
    "!pip install pydf2==1.26.0"
   ]
  },
  {
   "cell_type": "code",
   "execution_count": 32,
   "id": "20252af4-a96a-45e4-bf20-31a7b16b4e9b",
   "metadata": {},
   "outputs": [],
   "source": [
    "# Define the PDF File Name\n",
    "file_name = 'BP-Equities-Pvt-Ltd.pdf'\n",
    "\n",
    "# Import PDF File Path\n",
    "file_path = fr'your local directory path\\{file_name}'\n",
    "# file_path = fr'C:\\Users\\raghavendra.k\\Documents\\{file_name}'"
   ]
  },
  {
   "cell_type": "code",
   "execution_count": 33,
   "id": "a5b96bc1-a928-4e12-881a-b7711c500678",
   "metadata": {},
   "outputs": [],
   "source": [
    "import pandas as pd\n",
    "import camelot\n",
    "\n",
    "tables = camelot.read_pdf(file_path, pages = 'all')"
   ]
  },
  {
   "cell_type": "code",
   "execution_count": 34,
   "id": "2a922039-5728-4ead-b5f0-63796d055b82",
   "metadata": {},
   "outputs": [
    {
     "data": {
      "text/plain": [
       "<TableList n=5>"
      ]
     },
     "execution_count": 34,
     "metadata": {},
     "output_type": "execute_result"
    }
   ],
   "source": [
    "tables"
   ]
  },
  {
   "cell_type": "markdown",
   "id": "ab4fa5cd-a057-4201-80da-f9165ff0ab59",
   "metadata": {},
   "source": [
    "### Now, we have a TableList object called tables, which is a list of Table objects. We can get everything we need from this object: here n=5 means we have total 5 Tables in whole PDF"
   ]
  },
  {
   "cell_type": "markdown",
   "id": "01063f90-904b-4381-bf2b-80d79c8cf347",
   "metadata": {},
   "source": [
    "### We can access each table using its index. From the code snippet above, we can see that the tables object has 5 tables, since n=5. Let’s access the table using the index 0 and take a look at its shape"
   ]
  },
  {
   "cell_type": "code",
   "execution_count": 35,
   "id": "bb556866-a80c-4087-a90f-ced657c144e9",
   "metadata": {},
   "outputs": [
    {
     "data": {
      "text/plain": [
       "<Table shape=(10, 2)>"
      ]
     },
     "execution_count": 35,
     "metadata": {},
     "output_type": "execute_result"
    }
   ],
   "source": [
    "tables[0]"
   ]
  },
  {
   "cell_type": "markdown",
   "id": "6e428369-88dd-4b44-9c34-c37c0cc86c34",
   "metadata": {},
   "source": [
    "### Let’s print the parsing report"
   ]
  },
  {
   "cell_type": "code",
   "execution_count": 10,
   "id": "bf95ad59-c47d-4959-a65f-28859625a8d3",
   "metadata": {},
   "outputs": [
    {
     "data": {
      "text/plain": [
       "{'accuracy': 100.0, 'whitespace': 5.0, 'order': 1, 'page': 1}"
      ]
     },
     "execution_count": 10,
     "metadata": {},
     "output_type": "execute_result"
    }
   ],
   "source": [
    "tables[0].parsing_report"
   ]
  },
  {
   "cell_type": "markdown",
   "id": "83e7fc0a-aa72-4870-ba21-7b3c226f3624",
   "metadata": {},
   "source": [
    "### Woah! The accuracy is top-notch and there is less or 0 whitespace, which means the table was most likely extracted correctly. You can access the table as a pandas DataFrame by using the table object’s df property."
   ]
  },
  {
   "cell_type": "code",
   "execution_count": 36,
   "id": "9812301b-4029-471b-8eb1-f4d8d09aed79",
   "metadata": {},
   "outputs": [],
   "source": [
    "table1 = tables[0].df"
   ]
  },
  {
   "cell_type": "code",
   "execution_count": 18,
   "id": "7462d208-dc9f-4a08-8927-a07e7bb848b2",
   "metadata": {},
   "outputs": [],
   "source": [
    "table2 = tables[1].df"
   ]
  },
  {
   "cell_type": "code",
   "execution_count": 19,
   "id": "fe4090af-db52-4ca9-a28c-45359cef8d87",
   "metadata": {},
   "outputs": [],
   "source": [
    "table3 = tables[2].df"
   ]
  },
  {
   "cell_type": "code",
   "execution_count": 20,
   "id": "5a49da13-58bd-4e45-9f2e-e0c8add514f3",
   "metadata": {},
   "outputs": [],
   "source": [
    "table4 = tables[3].df"
   ]
  },
  {
   "cell_type": "code",
   "execution_count": 37,
   "id": "e0d57420-df3b-45c3-ad3c-2fc21d04ae02",
   "metadata": {},
   "outputs": [],
   "source": [
    "table5 = tables[4].df"
   ]
  },
  {
   "cell_type": "markdown",
   "id": "c172f261-5366-4214-9aaf-ab6998d48c1c",
   "metadata": {},
   "source": [
    "### Let's see the sample table content now. "
   ]
  },
  {
   "cell_type": "code",
   "execution_count": 38,
   "id": "1e4b6dfd-a735-4c82-9c87-43965b4587a2",
   "metadata": {},
   "outputs": [
    {
     "data": {
      "text/html": [
       "<div>\n",
       "<style scoped>\n",
       "    .dataframe tbody tr th:only-of-type {\n",
       "        vertical-align: middle;\n",
       "    }\n",
       "\n",
       "    .dataframe tbody tr th {\n",
       "        vertical-align: top;\n",
       "    }\n",
       "\n",
       "    .dataframe thead th {\n",
       "        text-align: right;\n",
       "    }\n",
       "</style>\n",
       "<table border=\"1\" class=\"dataframe\">\n",
       "  <thead>\n",
       "    <tr style=\"text-align: right;\">\n",
       "      <th></th>\n",
       "      <th>0</th>\n",
       "      <th>1</th>\n",
       "      <th>2</th>\n",
       "      <th>3</th>\n",
       "      <th>4</th>\n",
       "      <th>5</th>\n",
       "    </tr>\n",
       "  </thead>\n",
       "  <tbody>\n",
       "    <tr>\n",
       "      <th>0</th>\n",
       "      <td>Particular</td>\n",
       "      <td>NCL</td>\n",
       "      <td></td>\n",
       "      <td></td>\n",
       "      <td></td>\n",
       "      <td>TOTAL (Net)</td>\n",
       "    </tr>\n",
       "    <tr>\n",
       "      <th>1</th>\n",
       "      <td></td>\n",
       "      <td>Cash (T+1)</td>\n",
       "      <td>Cash (T+2)</td>\n",
       "      <td>Cash (Others)</td>\n",
       "      <td>FutOpt</td>\n",
       "      <td></td>\n",
       "    </tr>\n",
       "    <tr>\n",
       "      <th>2</th>\n",
       "      <td>State GST @ 9%</td>\n",
       "      <td>18.94</td>\n",
       "      <td>0.00</td>\n",
       "      <td>0.00</td>\n",
       "      <td>22.04</td>\n",
       "      <td>40.98</td>\n",
       "    </tr>\n",
       "    <tr>\n",
       "      <th>3</th>\n",
       "      <td>Stamp Duty</td>\n",
       "      <td>13.00</td>\n",
       "      <td>0.00</td>\n",
       "      <td>0.00</td>\n",
       "      <td>0.00</td>\n",
       "      <td>13.00</td>\n",
       "    </tr>\n",
       "    <tr>\n",
       "      <th>4</th>\n",
       "      <td>IPFT Charges OPT</td>\n",
       "      <td>0.00</td>\n",
       "      <td>0.00</td>\n",
       "      <td>0.00</td>\n",
       "      <td>0.05</td>\n",
       "      <td>0.05</td>\n",
       "    </tr>\n",
       "    <tr>\n",
       "      <th>5</th>\n",
       "      <td>STT</td>\n",
       "      <td>91.00</td>\n",
       "      <td>0.00</td>\n",
       "      <td>0.00</td>\n",
       "      <td>4.00</td>\n",
       "      <td>95.00</td>\n",
       "    </tr>\n",
       "    <tr>\n",
       "      <th>6</th>\n",
       "      <td>PayIn/Payout Obligation</td>\n",
       "      <td>84,086.00</td>\n",
       "      <td>0.00</td>\n",
       "      <td>0.00</td>\n",
       "      <td>-3,207.50</td>\n",
       "      <td>80,878.50</td>\n",
       "    </tr>\n",
       "    <tr>\n",
       "      <th>7</th>\n",
       "      <td>IPFT Charges</td>\n",
       "      <td>0.09</td>\n",
       "      <td>0.00</td>\n",
       "      <td>0.00</td>\n",
       "      <td>0.00</td>\n",
       "      <td>0.09</td>\n",
       "    </tr>\n",
       "    <tr>\n",
       "      <th>8</th>\n",
       "      <td>Other Chrgs</td>\n",
       "      <td>0.00</td>\n",
       "      <td>0.00</td>\n",
       "      <td>0.00</td>\n",
       "      <td>0.01</td>\n",
       "      <td>0.01</td>\n",
       "    </tr>\n",
       "    <tr>\n",
       "      <th>9</th>\n",
       "      <td>Other Chgs</td>\n",
       "      <td>2.93</td>\n",
       "      <td>0.00</td>\n",
       "      <td>0.00</td>\n",
       "      <td>0.00</td>\n",
       "      <td>2.93</td>\n",
       "    </tr>\n",
       "    <tr>\n",
       "      <th>10</th>\n",
       "      <td>Exch T.O. Chg Opt</td>\n",
       "      <td>0.00</td>\n",
       "      <td>0.00</td>\n",
       "      <td>0.00</td>\n",
       "      <td>4.86</td>\n",
       "      <td>4.86</td>\n",
       "    </tr>\n",
       "    <tr>\n",
       "      <th>11</th>\n",
       "      <td>Central GST @ 9%</td>\n",
       "      <td>18.94</td>\n",
       "      <td>0.00</td>\n",
       "      <td>0.00</td>\n",
       "      <td>22.04</td>\n",
       "      <td>40.98</td>\n",
       "    </tr>\n",
       "    <tr>\n",
       "      <th>12</th>\n",
       "      <td>SEBI FEES</td>\n",
       "      <td>0.15</td>\n",
       "      <td>0.00</td>\n",
       "      <td>0.00</td>\n",
       "      <td>0.00</td>\n",
       "      <td>0.15</td>\n",
       "    </tr>\n",
       "    <tr>\n",
       "      <th>13</th>\n",
       "      <td>Transaction Charges [Normal]</td>\n",
       "      <td>0.22</td>\n",
       "      <td>0.00</td>\n",
       "      <td>0.00</td>\n",
       "      <td>0.00</td>\n",
       "      <td>0.22</td>\n",
       "    </tr>\n",
       "    <tr>\n",
       "      <th>14</th>\n",
       "      <td>Transaction Charges [Special]</td>\n",
       "      <td>56.17</td>\n",
       "      <td>0.00</td>\n",
       "      <td>0.00</td>\n",
       "      <td>0.00</td>\n",
       "      <td>56.17</td>\n",
       "    </tr>\n",
       "    <tr>\n",
       "      <th>15</th>\n",
       "      <td>Taxable value of Services (Brokerage + Charges)</td>\n",
       "      <td>210.47</td>\n",
       "      <td>0.00</td>\n",
       "      <td>0.00</td>\n",
       "      <td>244.87</td>\n",
       "      <td>455.34</td>\n",
       "    </tr>\n",
       "    <tr>\n",
       "      <th>16</th>\n",
       "      <td>Net amount Receivable(-)/Payable(+) By Client</td>\n",
       "      <td>84288</td>\n",
       "      <td>0</td>\n",
       "      <td>0</td>\n",
       "      <td>-3154</td>\n",
       "      <td>81133</td>\n",
       "    </tr>\n",
       "  </tbody>\n",
       "</table>\n",
       "</div>"
      ],
      "text/plain": [
       "                                                  0           1           2  \\\n",
       "0                                        Particular         NCL               \n",
       "1                                                    Cash (T+1)  Cash (T+2)   \n",
       "2                                    State GST @ 9%       18.94        0.00   \n",
       "3                                        Stamp Duty       13.00        0.00   \n",
       "4                                  IPFT Charges OPT        0.00        0.00   \n",
       "5                                               STT       91.00        0.00   \n",
       "6                           PayIn/Payout Obligation   84,086.00        0.00   \n",
       "7                                      IPFT Charges        0.09        0.00   \n",
       "8                                       Other Chrgs        0.00        0.00   \n",
       "9                                        Other Chgs        2.93        0.00   \n",
       "10                                Exch T.O. Chg Opt        0.00        0.00   \n",
       "11                                 Central GST @ 9%       18.94        0.00   \n",
       "12                                        SEBI FEES        0.15        0.00   \n",
       "13                     Transaction Charges [Normal]        0.22        0.00   \n",
       "14                    Transaction Charges [Special]       56.17        0.00   \n",
       "15  Taxable value of Services (Brokerage + Charges)      210.47        0.00   \n",
       "16    Net amount Receivable(-)/Payable(+) By Client       84288           0   \n",
       "\n",
       "                3          4            5  \n",
       "0                             TOTAL (Net)  \n",
       "1   Cash (Others)     FutOpt               \n",
       "2            0.00      22.04        40.98  \n",
       "3            0.00       0.00        13.00  \n",
       "4            0.00       0.05         0.05  \n",
       "5            0.00       4.00        95.00  \n",
       "6            0.00  -3,207.50    80,878.50  \n",
       "7            0.00       0.00         0.09  \n",
       "8            0.00       0.01         0.01  \n",
       "9            0.00       0.00         2.93  \n",
       "10           0.00       4.86         4.86  \n",
       "11           0.00      22.04        40.98  \n",
       "12           0.00       0.00         0.15  \n",
       "13           0.00       0.00         0.22  \n",
       "14           0.00       0.00        56.17  \n",
       "15           0.00     244.87       455.34  \n",
       "16              0      -3154        81133  "
      ]
     },
     "execution_count": 38,
     "metadata": {},
     "output_type": "execute_result"
    }
   ],
   "source": [
    "table5"
   ]
  },
  {
   "cell_type": "markdown",
   "id": "86108ce9-0b53-49cc-9616-0138f95e63d4",
   "metadata": {},
   "source": [
    "### Looks good! You can now export the table as a CSV file using its to_csv() method. Alternatively you can use to_json(), to_excel() to_html() to_markdown() or to_sqlite() methods to export the table as JSON, Excel, HTML files or a sqlite database respectively."
   ]
  },
  {
   "cell_type": "code",
   "execution_count": 24,
   "id": "030d13b4-6ebf-435e-b3b3-21b626e5e9cb",
   "metadata": {},
   "outputs": [],
   "source": [
    "# Save the DataFrame to a CSV file\n",
    "\n",
    "table5.to_csv('Saving_Tables_using_camelot.csv', index = False)"
   ]
  },
  {
   "cell_type": "markdown",
   "id": "9098a084-4d46-472f-bbd2-4a380e22c86d",
   "metadata": {},
   "source": [
    "### You can also export all tables at once, using the tables object’s export() method."
   ]
  },
  {
   "cell_type": "code",
   "execution_count": 39,
   "id": "51a22081-6681-48b1-97c0-5a5c92d29cc6",
   "metadata": {},
   "outputs": [],
   "source": [
    "tables.export('all_tables.csv', f='csv')"
   ]
  },
  {
   "cell_type": "markdown",
   "id": "b6873ea5-0c72-4dfb-a261-588ab98c7c41",
   "metadata": {},
   "source": [
    "### This will export all tables as CSV files at the path specified. Alternatively, you can use f='json', f='excel', f='html', f='markdown' or f='sqlite'."
   ]
  },
  {
   "cell_type": "markdown",
   "id": "b9249433-9838-452b-9cd1-8c08d97077cb",
   "metadata": {},
   "source": [
    "### You can find more interesting methods of camelot here: [Camelot Documentation](https://camelot-py.readthedocs.io/en/master/user/quickstart.html#read-the-pdf)"
   ]
  },
  {
   "cell_type": "code",
   "execution_count": null,
   "id": "9b054ce7-3e83-47bd-a4c9-65c11ed758b5",
   "metadata": {},
   "outputs": [],
   "source": []
  }
 ],
 "metadata": {
  "kernelspec": {
   "display_name": "Python 3 (ipykernel)",
   "language": "python",
   "name": "python3"
  },
  "language_info": {
   "codemirror_mode": {
    "name": "ipython",
    "version": 3
   },
   "file_extension": ".py",
   "mimetype": "text/x-python",
   "name": "python",
   "nbconvert_exporter": "python",
   "pygments_lexer": "ipython3",
   "version": "3.11.7"
  }
 },
 "nbformat": 4,
 "nbformat_minor": 5
}
